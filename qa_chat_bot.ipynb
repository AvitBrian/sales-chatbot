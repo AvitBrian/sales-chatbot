{
  "cells": [
    {
      "cell_type": "code",
      "execution_count": 1,
      "metadata": {
        "colab": {
          "base_uri": "https://localhost:8080/"
        },
        "id": "3cW5lxDO8twU",
        "outputId": "944347ca-276c-4f2c-f060-83beef4d898f"
      },
      "outputs": [
        {
          "ename": "SyntaxError",
          "evalue": "invalid syntax (2520636081.py, line 1)",
          "output_type": "error",
          "traceback": [
            "\u001b[0;36m  Cell \u001b[0;32mIn[1], line 1\u001b[0;36m\u001b[0m\n\u001b[0;31m    python3.10 -m venv tf_env\u001b[0m\n\u001b[0m           ^\u001b[0m\n\u001b[0;31mSyntaxError\u001b[0m\u001b[0;31m:\u001b[0m invalid syntax\n"
          ]
        }
      ],
      "source": [
        "python3.10 -m venv tf_env\n"
      ]
    },
    {
      "cell_type": "code",
      "execution_count": 5,
      "metadata": {
        "colab": {
          "base_uri": "https://localhost:8080/"
        },
        "id": "x_44piDNvQmL",
        "outputId": "8a3daaa1-212a-40bf-ed42-af55ddde058c"
      },
      "outputs": [
        {
          "name": "stdout",
          "output_type": "stream",
          "text": [
            "Collecting datasets\n",
            "  Using cached datasets-3.0.2-py3-none-any.whl.metadata (20 kB)\n",
            "Collecting transformers\n",
            "  Using cached transformers-4.46.1-py3-none-any.whl.metadata (44 kB)\n",
            "Collecting sentence-transformers\n",
            "  Using cached sentence_transformers-3.2.1-py3-none-any.whl.metadata (10 kB)\n",
            "Collecting nltk\n",
            "  Using cached nltk-3.9.1-py3-none-any.whl.metadata (2.9 kB)\n",
            "Collecting accelerate\n",
            "  Using cached accelerate-1.0.1-py3-none-any.whl.metadata (19 kB)\n",
            "\u001b[31mERROR: Could not find a version that satisfies the requirement tensorflow==2.12.0 (from versions: 2.16.0rc0, 2.16.1, 2.16.2, 2.17.0rc0, 2.17.0rc1, 2.17.0, 2.17.1, 2.18.0rc0, 2.18.0rc1, 2.18.0rc2, 2.18.0)\u001b[0m\u001b[31m\n",
            "\u001b[0m\u001b[31mERROR: No matching distribution found for tensorflow==2.12.0\u001b[0m\u001b[31m\n",
            "\u001b[0m\n",
            "\u001b[1m[\u001b[0m\u001b[34;49mnotice\u001b[0m\u001b[1;39;49m]\u001b[0m\u001b[39;49m A new release of pip is available: \u001b[0m\u001b[31;49m23.3.2\u001b[0m\u001b[39;49m -> \u001b[0m\u001b[32;49m24.3.1\u001b[0m\n",
            "\u001b[1m[\u001b[0m\u001b[34;49mnotice\u001b[0m\u001b[1;39;49m]\u001b[0m\u001b[39;49m To update, run: \u001b[0m\u001b[32;49mpip install --upgrade pip\u001b[0m\n"
          ]
        }
      ],
      "source": [
        "!pip install datasets transformers sentence-transformers nltk accelerate -U tensorflow==2.12.0"
      ]
    },
    {
      "cell_type": "code",
      "execution_count": 3,
      "metadata": {},
      "outputs": [
        {
          "name": "stdout",
          "output_type": "stream",
          "text": [
            "Collecting numpy\n",
            "  Downloading numpy-2.1.2-cp312-cp312-manylinux_2_17_x86_64.manylinux2014_x86_64.whl.metadata (60 kB)\n",
            "\u001b[2K     \u001b[90m━━━━━━━━━━━━━━━━━━━━━━━━━━━━━━━━━━━━━━━\u001b[0m \u001b[32m60.9/60.9 kB\u001b[0m \u001b[31m381.4 kB/s\u001b[0m eta \u001b[36m0:00:00\u001b[0ma \u001b[36m0:00:01\u001b[0m\n",
            "\u001b[?25hDownloading numpy-2.1.2-cp312-cp312-manylinux_2_17_x86_64.manylinux2014_x86_64.whl (16.0 MB)\n",
            "\u001b[2K   \u001b[90m━━━━━━━━━━━━━━━━━━━━━━━━━━━━━━━━━━━━━━━━\u001b[0m \u001b[32m16.0/16.0 MB\u001b[0m \u001b[31m5.9 MB/s\u001b[0m eta \u001b[36m0:00:00\u001b[0m00:01\u001b[0m00:01\u001b[0m\n",
            "\u001b[?25hInstalling collected packages: numpy\n",
            "Successfully installed numpy-2.1.2\n",
            "\n",
            "\u001b[1m[\u001b[0m\u001b[34;49mnotice\u001b[0m\u001b[1;39;49m]\u001b[0m\u001b[39;49m A new release of pip is available: \u001b[0m\u001b[31;49m23.3.2\u001b[0m\u001b[39;49m -> \u001b[0m\u001b[32;49m24.3.1\u001b[0m\n",
            "\u001b[1m[\u001b[0m\u001b[34;49mnotice\u001b[0m\u001b[1;39;49m]\u001b[0m\u001b[39;49m To update, run: \u001b[0m\u001b[32;49mpip install --upgrade pip\u001b[0m\n"
          ]
        }
      ],
      "source": []
    },
    {
      "cell_type": "code",
      "execution_count": 29,
      "metadata": {
        "id": "ds3SboJ2v4xI"
      },
      "outputs": [],
      "source": [
        "import numpy as np\n",
        "from transformers import EarlyStoppingCallback, Trainer\n",
        "import json, os\n",
        "import torch\n",
        "import torch.nn.functional as F\n",
        "import re\n",
        "import pandas as pd\n",
        "import logging\n",
        "\n",
        "from sklearn.model_selection import train_test_split\n",
        "from datasets import load_dataset\n",
        "from datasets import Dataset\n",
        "from transformers import AutoTokenizer, BertForSequenceClassification, Trainer, TrainingArguments\n",
        "from sentence_transformers import SentenceTransformer\n",
        "from sklearn.metrics import accuracy_score\n",
        "from sklearn.metrics.pairwise import cosine_similarity\n",
        "from nltk.translate.bleu_score import sentence_bleu\n",
        "\n",
        "\n",
        "device = torch.device(\"cuda\" if torch.cuda.is_available() else \"cpu\")\n",
        "logging.basicConfig(level=logging.DEBUG, format='%(asctime)s - %(levelname)s - %(message)s')\n",
        "\n",
        "\n",
        "# os.environ[\"CUDA_VISIBLE_DEVICES\"] = \"-1\""
      ]
    },
    {
      "cell_type": "code",
      "execution_count": 3,
      "metadata": {
        "colab": {
          "base_uri": "https://localhost:8080/",
          "height": 293
        },
        "id": "ipc_rfiPyMZn",
        "outputId": "42b13794-4a3c-449a-8037-9e798f87b0c6"
      },
      "outputs": [
        {
          "data": {
            "text/html": [
              "<div>\n",
              "<style scoped>\n",
              "    .dataframe tbody tr th:only-of-type {\n",
              "        vertical-align: middle;\n",
              "    }\n",
              "\n",
              "    .dataframe tbody tr th {\n",
              "        vertical-align: top;\n",
              "    }\n",
              "\n",
              "    .dataframe thead th {\n",
              "        text-align: right;\n",
              "    }\n",
              "</style>\n",
              "<table border=\"1\" class=\"dataframe\">\n",
              "  <thead>\n",
              "    <tr style=\"text-align: right;\">\n",
              "      <th></th>\n",
              "      <th>instruction</th>\n",
              "      <th>question</th>\n",
              "      <th>answer</th>\n",
              "    </tr>\n",
              "  </thead>\n",
              "  <tbody>\n",
              "    <tr>\n",
              "      <th>0</th>\n",
              "      <td>You are the salesman. Answer the customer quer...</td>\n",
              "      <td>Customer: Hi, Im interested in purchasing a ne...</td>\n",
              "      <td>Salesman: Of course, Id be happy to assist you...</td>\n",
              "    </tr>\n",
              "    <tr>\n",
              "      <th>1</th>\n",
              "      <td>You are the salesman. Answer the customer quer...</td>\n",
              "      <td>Customer: Im looking for a laptop that can han...</td>\n",
              "      <td>Salesman: Absolutely! In order to find the bes...</td>\n",
              "    </tr>\n",
              "    <tr>\n",
              "      <th>2</th>\n",
              "      <td>You are the salesman. Answer the customer quer...</td>\n",
              "      <td>Customer: Im considering upgrading my companys...</td>\n",
              "      <td>Salesman: Thank you for considering us for you...</td>\n",
              "    </tr>\n",
              "    <tr>\n",
              "      <th>3</th>\n",
              "      <td>You are the salesman. Answer the customer quer...</td>\n",
              "      <td>Customer: Im in the market for a new smartwatc...</td>\n",
              "      <td>Salesman: Absolutely! Before we proceed, could...</td>\n",
              "    </tr>\n",
              "    <tr>\n",
              "      <th>4</th>\n",
              "      <td>You are the salesman. Answer the customer quer...</td>\n",
              "      <td>Customer: Im looking to buy a new printer for ...</td>\n",
              "      <td>Salesman: Certainly! To assist you in finding ...</td>\n",
              "    </tr>\n",
              "  </tbody>\n",
              "</table>\n",
              "</div>"
            ],
            "text/plain": [
              "                                         instruction  \\\n",
              "0  You are the salesman. Answer the customer quer...   \n",
              "1  You are the salesman. Answer the customer quer...   \n",
              "2  You are the salesman. Answer the customer quer...   \n",
              "3  You are the salesman. Answer the customer quer...   \n",
              "4  You are the salesman. Answer the customer quer...   \n",
              "\n",
              "                                            question  \\\n",
              "0  Customer: Hi, Im interested in purchasing a ne...   \n",
              "1  Customer: Im looking for a laptop that can han...   \n",
              "2  Customer: Im considering upgrading my companys...   \n",
              "3  Customer: Im in the market for a new smartwatc...   \n",
              "4  Customer: Im looking to buy a new printer for ...   \n",
              "\n",
              "                                              answer  \n",
              "0  Salesman: Of course, Id be happy to assist you...  \n",
              "1  Salesman: Absolutely! In order to find the bes...  \n",
              "2  Salesman: Thank you for considering us for you...  \n",
              "3  Salesman: Absolutely! Before we proceed, could...  \n",
              "4  Salesman: Certainly! To assist you in finding ...  "
            ]
          },
          "execution_count": 3,
          "metadata": {},
          "output_type": "execute_result"
        }
      ],
      "source": [
        "# Load dataset\n",
        "data = load_dataset(\"goendalf666/sales-conversations\")\n",
        "\n",
        "questions = []\n",
        "answers = []\n",
        "contexts = []\n",
        "\n",
        "for row in data['train']:\n",
        "    instruction = row.get(\"instruction\", \"You are the salesman. Answer the customer queries accordingly.\")\n",
        "    for i in range(0, 20, 2):\n",
        "        customer = row.get(str(i), None)\n",
        "        salesman = row.get(str(i + 1), None)\n",
        "\n",
        "        if customer and salesman:\n",
        "            questions.append(customer)\n",
        "            answers.append(salesman)\n",
        "            contexts.append(instruction)\n",
        "\n",
        "\n",
        "qa_data = pd.DataFrame({\n",
        "    'instruction': contexts,\n",
        "    'question': questions,\n",
        "    'answer': answers\n",
        "})\n",
        "\n",
        "qa_data.head()"
      ]
    },
    {
      "cell_type": "code",
      "execution_count": 4,
      "metadata": {
        "colab": {
          "base_uri": "https://localhost:8080/"
        },
        "id": "OQ0ugJAJ3ZWN",
        "outputId": "a83bd76b-2594-4bee-8b1d-99737634bb16"
      },
      "outputs": [
        {
          "name": "stdout",
          "output_type": "stream",
          "text": [
            "Training set size: 350\n",
            "Validation set size: 75\n",
            "Test set size: 75\n"
          ]
        }
      ],
      "source": [
        "# split data\n",
        "qa_data = qa_data.head(500)\n",
        "train_df, remaining = train_test_split(qa_data, test_size=0.3, random_state=42)\n",
        "val_df, test_df = train_test_split(remaining, test_size=0.5, random_state=42)\n",
        "\n",
        "print(\"Training set size:\", len(train_df))\n",
        "print(\"Validation set size:\", len(val_df))\n",
        "print(\"Test set size:\", len(test_df))"
      ]
    },
    {
      "cell_type": "code",
      "execution_count": 5,
      "metadata": {
        "colab": {
          "base_uri": "https://localhost:8080/",
          "height": 459
        },
        "id": "n4wACuhs3nHP",
        "outputId": "dc8d0fb9-c14e-482c-8a85-5ca4be5d01ef"
      },
      "outputs": [
        {
          "data": {
            "text/plain": [
              "5      Salesman: Great! Before I can recommend the id...\n",
              "116    Salesman: Absolutely! We have a range of suppl...\n",
              "45     Salesman: Great! Im glad you reached out. My n...\n",
              "16     Salesman: Great question! We differentiate our...\n",
              "462    Salesman: Of course! Our health product is des...\n",
              "                             ...                        \n",
              "106    Salesman: Absolutely! We have a range of diges...\n",
              "270    Salesman: Its natural to have concerns about m...\n",
              "348    Salesman: Absolutely, understanding your indus...\n",
              "435    Salesman: Certainly! We have a stress manageme...\n",
              "102    Salesman: Absolutely! We specialize in providi...\n",
              "Name: answer, Length: 350, dtype: object"
            ]
          },
          "execution_count": 5,
          "metadata": {},
          "output_type": "execute_result"
        }
      ],
      "source": [
        "train_df['answer']"
      ]
    },
    {
      "cell_type": "code",
      "execution_count": 6,
      "metadata": {
        "id": "_bwmD6TU3_HU"
      },
      "outputs": [],
      "source": [
        "# map labels to integers\n",
        "all_answers = pd.concat([train_df['answer'], val_df['answer'], test_df['answer']]).tolist()\n",
        "all_answers = [x for x in all_answers if pd.notna(x)]\n",
        "unique_labels = list(dict.fromkeys(all_answers))\n",
        "label_mapping = {label: idx for idx, label in enumerate(unique_labels)}\n",
        "\n",
        "with open(\"label_mapping.json\", \"w\") as f:\n",
        "    json.dump(label_mapping, f)"
      ]
    },
    {
      "cell_type": "code",
      "execution_count": 7,
      "metadata": {
        "colab": {
          "base_uri": "https://localhost:8080/"
        },
        "id": "qLRO8xwU4iqY",
        "outputId": "5b3fabe2-0110-4500-dc81-4c92e3dcb624"
      },
      "outputs": [],
      "source": [
        "# save label mapping to file for inference later\n",
        "sent_transf = SentenceTransformer('all-MiniLM-L6-v2', device=device)\n",
        "response = sent_transf.encode([key for key in label_mapping.keys() if key is not np.nan])\n",
        "response_path = \"./response_embeddings.npy\"\n",
        "np.save(response_path, response)\n",
        "sent_transf_path = \"./sent_transf\"\n",
        "os.makedirs(sent_transf_path, exist_ok=True)\n",
        "sent_transf.save(sent_transf_path)\n"
      ]
    },
    {
      "cell_type": "code",
      "execution_count": 30,
      "metadata": {},
      "outputs": [],
      "source": [
        "# set up semantic search\n",
        "def semantic_search(query, top_k=5):\n",
        "    query_embedding = sent_transf.encode([query])\n",
        "    similarities = cosine_similarity(query_embedding, response)[0]\n",
        "    top_indices = similarities.argsort()[-top_k:][::-1]\n",
        "    valid_keys = [key for key in label_mapping.keys() if key is not np.nan]\n",
        "\n",
        "    return [(valid_keys[i], similarities[i]) for i in top_indices]"
      ]
    },
    {
      "cell_type": "code",
      "execution_count": 31,
      "metadata": {
        "colab": {
          "base_uri": "https://localhost:8080/"
        },
        "id": "NrAL9zNx6TNK",
        "outputId": "d302516a-0314-4367-e508-aa967aa55f87"
      },
      "outputs": [],
      "source": [
        "# set up normalization\n",
        "def normalize_text(text):\n",
        "    text = str(text).lower()\n",
        "    text = re.sub(r'\\s+', ' ', text).strip()\n",
        "    return text\n"
      ]
    },
    {
      "cell_type": "code",
      "execution_count": 33,
      "metadata": {},
      "outputs": [],
      "source": [
        "# map labels\n",
        "def map_label(example):\n",
        "    if 'answer' in example:\n",
        "        normalized_answer = normalize_text(example['answer'])\n",
        "        normalized_label_mapping = {normalize_text(k): v for k, v in label_mapping.items()}\n",
        "        example['label'] = normalized_label_mapping.get(normalized_answer, -1)\n",
        "        # print(f\"Assigned label: {example['label']}, Original answer: {example['answer']}\")\n",
        "    else:\n",
        "        print(\"Warning: 'answer' column not found in the DataFrame.\")\n",
        "        example['label'] = -1\n",
        "    return example"
      ]
    },
    {
      "cell_type": "code",
      "execution_count": 34,
      "metadata": {},
      "outputs": [
        {
          "name": "stdout",
          "output_type": "stream",
          "text": [
            "\n",
            "Sample labels from train_df:\n",
            "Example 0: Label - 0, Answer - Salesman: Great! Before I can recommend the ideal gaming console for you, could you let me know what types of games you enjoy playing and if there are any specific features you are looking for in a console?\n",
            "Example 1: Label - 1, Answer - Salesman: Absolutely! We have a range of supplements that are known to support joint health and reduce inflammation. I can provide you with more information on how they work and their benefits.\n",
            "Example 2: Label - 2, Answer - Salesman: Great! Im glad you reached out. My name is John, and Id be happy to assist you. How can I help?\n",
            "Example 3: Label - 3, Answer - Salesman: Great question! We differentiate ourselves by placing a strong emphasis on building rapport with our clients. Our dedicated team ensures that you feel understood, valued, and supported throughout your investment journey. We also provide ongoing support and valuable resources to help you achieve your financial goals.\n",
            "Example 4: Label - 4, Answer - Salesman: Of course! Our health product is designed to improve overall wellness and boost energy levels. Its important to note that building rapport with our customers is a crucial step in the sales process. By establishing a connection, we can better understand your specific needs and tailor our approach to address them.\n",
            "Example 5: Label - 5, Answer - Salesman: Id be glad to help. Lets talk about your current financial situation and identify areas where we can make improvements.\n",
            "Example 6: Label - 6, Answer - Salesman: Absolutely! Before we proceed, could you let me know what features are most important to you in a smartwatch? That way, I can recommend the best options that suit your needs.\n",
            "Example 7: Label - 7, Answer - Salesman: Thats fantastic! Its always exciting to meet someone who shares a genuine interest in finance. What specifically caught your attention in this industry?\n",
            "Example 8: Label - 8, Answer - Salesman: Certainly! Lets begin by discussing your preferences and the specific features youre looking for in a home entertainment system.\n",
            "Example 9: Label - 9, Answer - Salesman: I completely understand your situation. Let me check if there are any ongoing discounts or promotions that you may qualify for. Can you please provide me with your budget range?\n"
          ]
        }
      ],
      "source": [
        "# Normalize keys\n",
        "normalized_label_mapping = {normalize_text(k): v for k, v in label_mapping.items()}\n",
        "train_df = train_df.apply(map_label, axis=1)\n",
        "val_df = val_df.apply(map_label, axis=1)\n",
        "test_df = test_df.apply(map_label, axis=1)\n",
        "\n",
        "\n",
        "print(\"\\nSample labels from train_df:\")\n",
        "for i in range(10):\n",
        "    print(f\"Example {i}: Label - {train_df.iloc[i]['label']}, Answer - {train_df.iloc[i]['answer']}\")"
      ]
    },
    {
      "cell_type": "code",
      "execution_count": 9,
      "metadata": {
        "colab": {
          "base_uri": "https://localhost:8080/"
        },
        "id": "3OUC07U-6mXy",
        "outputId": "5708db8a-9d50-4beb-b027-dbe1d9778a0e"
      },
      "outputs": [],
      "source": [
        "#Tokenizer\n",
        "tokenizer = AutoTokenizer.from_pretrained('bert-base-uncased', use_fast=True)\n"
      ]
    },
    {
      "cell_type": "code",
      "execution_count": 35,
      "metadata": {
        "id": "pZkMtY426uN5"
      },
      "outputs": [],
      "source": [
        "# clean text data for training and validation sets\n",
        "def clean_text(text):\n",
        "    text = text.lower()\n",
        "    text = re.sub(r'[^a-z\\s]', '', text)\n",
        "    text = re.sub(r'\\s+', ' ', text).strip()\n",
        "    return text"
      ]
    },
    {
      "cell_type": "code",
      "execution_count": 12,
      "metadata": {
        "colab": {
          "base_uri": "https://localhost:8080/"
        },
        "id": "tiGdNGj6Az1F",
        "outputId": "84a5941d-22c5-44e4-b7b1-0e374706df6a"
      },
      "outputs": [
        {
          "name": "stdout",
          "output_type": "stream",
          "text": [
            "Train Dataset sample: {'instruction': 'You are the salesman. Answer the customer queries accordingly.', 'question': 'Customer: Im interested in purchasing a gaming console. Which one would you recommend?', 'answer': 'Salesman: Great! Before I can recommend the ideal gaming console for you, could you let me know what types of games you enjoy playing and if there are any specific features you are looking for in a console?', 'label': 0, '__index_level_0__': 5}\n",
            "Val Dataset sample: {'instruction': 'You are the salesman. Answer the customer queries accordingly.', 'question': 'Customer: Im looking for natural remedies for stress and anxiety. Can you suggest anything?', 'answer': 'Salesman: Managing stress and anxiety is crucial for overall well-being. We have a variety of natural remedies, such as herbal supplements and relaxation techniques, that can help you find relief. Lets explore these options together.', 'label': 349, '__index_level_0__': 321}\n",
            "Test Dataset sample: {'instruction': 'You are the salesman. Answer the customer queries accordingly.', 'question': 'Customer: Im looking for natural supplements to improve my sleep quality. Do you have any recommendations?', 'answer': 'Salesman: Absolutely! We offer a range of natural sleep aids that can help promote better sleep quality and relaxation. Let me provide you with more information on those options.', 'label': 422, '__index_level_0__': 290}\n"
          ]
        }
      ],
      "source": [
        "# Convert DataFrames to Datasets\n",
        "train_dataset = Dataset.from_pandas(train_df)\n",
        "val_dataset = Dataset.from_pandas(val_df)\n",
        "test_dataset = Dataset.from_pandas(test_df)\n",
        "\n",
        "print(\"Train Dataset sample:\", train_dataset[0])\n",
        "print(\"Val Dataset sample:\", val_dataset[0])\n",
        "print(\"Test Dataset sample:\", test_dataset[0])"
      ]
    },
    {
      "cell_type": "code",
      "execution_count": 27,
      "metadata": {},
      "outputs": [],
      "source": [
        "# set up the tokenization function\n",
        "def tokenize_fast(examples):\n",
        "    try:\n",
        "        logging.debug(\"tokenize_fast: Starting batch tokenization...\")\n",
        "        tokenized_inputs = tokenizer(\n",
        "            examples['instruction'],\n",
        "            examples['question'],\n",
        "            truncation=True,\n",
        "            padding='max_length',\n",
        "            max_length=512\n",
        "        )\n",
        "        tokenized_inputs[\"labels\"] = examples[\"label\"]\n",
        "        logging.debug(\"tokenize_fast: Tokenization finished successfully.\")\n",
        "        return tokenized_inputs\n",
        "    except Exception as e:\n",
        "        logging.error(f\"tokenize_fast: Error encountered: {e}\")\n",
        "        raise\n"
      ]
    },
    {
      "cell_type": "code",
      "execution_count": 13,
      "metadata": {
        "colab": {
          "base_uri": "https://localhost:8080/",
          "height": 1000,
          "referenced_widgets": [
            "293c6428b7d14876bf5ded118f08cdc7",
            "1e8d6c6da2e5404998df8431aeb7dbb3",
            "ef723f4aa0cd4f9996bb80671a408747",
            "37c92146df614f158599e02a85d2afd8",
            "27ffa2378276463b871b41b23f9082d3",
            "bc54e1e987304d4493252d7a3497107e",
            "76343ac0a4d144f8ba6aceea55a57a55",
            "9911933efcb74502bbb1b8e85c1a45c2",
            "916b7ab0dba7404ba6fc7e289211579f",
            "0e1aa1d3de0b40f8b394b9c0b339d22c",
            "bb5545cddf6240f2b4e3533c3235133d",
            "2f97fb76db8346418216e25b550e820e",
            "51ba6f8b0d974512b8ab3e89bf7538bf",
            "d49d0bd3523d40acb64ecf2f766753c9",
            "993ab935a6d44dc0a41914a8f2c5a75d",
            "5928d1e3e81f414c8eebdf95a43c9b0c",
            "da39da1bcee449e8823411a27cadcb56",
            "69d61e18e1404d07a2a4ae81d5d512d5",
            "f3858c5738624e609b3fb6b605550ff9",
            "3f36c18ddf7a4f909e4397ed2a33122e",
            "162db4a606804fc0938d721036ef1c3d",
            "c22ea276e5d746eab2b22709e71ebdcf",
            "7e83a5ad896f46fa81d793e92d63917e",
            "1bba7497beec430e923220db07da401c",
            "5b7e5cc46af04f4fabe4c8cb36734ebc",
            "a26783c0bd0d484c9d419fd8cc63d988",
            "55acb89441e049e5958ca82390ba3b63",
            "3a154635201147d6a5ed7997d91f4c06",
            "1f290af0753a441a8b110651426b3420",
            "7c2ad85faef648d8b9ae6d50e303c213",
            "fe2148759113426cb6dfa6af637b620c",
            "990ef655d5754fedb7c96bd4320f5898",
            "814d4fd1c320452c9d008e9c20284b3e"
          ]
        },
        "id": "DGUF_uLb7Ajv",
        "outputId": "6fcea8d3-db1d-4f41-e9b7-aee58cd97b4b"
      },
      "outputs": [
        {
          "name": "stderr",
          "output_type": "stream",
          "text": [
            "Map (num_proc=4):   0%|          | 0/350 [00:00<?, ? examples/s]2024-10-30 13:27:08,719 - DEBUG - tokenize_fast: Starting batch tokenization...\n",
            "2024-10-30 13:27:08,736 - DEBUG - tokenize_fast: Starting batch tokenization...\n",
            "2024-10-30 13:27:08,753 - DEBUG - tokenize_fast: Starting batch tokenization...\n",
            "2024-10-30 13:27:08,780 - DEBUG - tokenize_fast: Starting batch tokenization...\n",
            "2024-10-30 13:27:08,786 - DEBUG - tokenize_fast: Tokenization finished successfully.\n",
            "2024-10-30 13:27:08,807 - DEBUG - tokenize_fast: Tokenization finished successfully.\n",
            "2024-10-30 13:27:08,833 - DEBUG - tokenize_fast: Tokenization finished successfully.\n",
            "2024-10-30 13:27:08,875 - DEBUG - tokenize_fast: Tokenization finished successfully.\n",
            "Map (num_proc=4): 100%|██████████| 350/350 [00:00<00:00, 605.68 examples/s]\n",
            "Map (num_proc=4):   0%|          | 0/75 [00:00<?, ? examples/s]2024-10-30 13:27:09,541 - DEBUG - tokenize_fast: Starting batch tokenization...\n",
            "2024-10-30 13:27:09,574 - DEBUG - tokenize_fast: Tokenization finished successfully.\n",
            "2024-10-30 13:27:09,574 - DEBUG - tokenize_fast: Starting batch tokenization...\n",
            "2024-10-30 13:27:09,593 - DEBUG - tokenize_fast: Starting batch tokenization...\n",
            "2024-10-30 13:27:09,605 - DEBUG - tokenize_fast: Starting batch tokenization...\n",
            "2024-10-30 13:27:09,622 - DEBUG - tokenize_fast: Tokenization finished successfully.\n",
            "2024-10-30 13:27:09,623 - DEBUG - tokenize_fast: Tokenization finished successfully.\n",
            "Map (num_proc=4):  25%|██▌       | 19/75 [00:00<00:00, 115.99 examples/s]2024-10-30 13:27:09,629 - DEBUG - tokenize_fast: Tokenization finished successfully.\n",
            "Map (num_proc=4): 100%|██████████| 75/75 [00:00<00:00, 199.78 examples/s]\n",
            "Map (num_proc=4):   0%|          | 0/75 [00:00<?, ? examples/s]2024-10-30 13:27:10,373 - DEBUG - tokenize_fast: Starting batch tokenization...\n",
            "2024-10-30 13:27:10,400 - DEBUG - tokenize_fast: Tokenization finished successfully.\n",
            "2024-10-30 13:27:10,401 - DEBUG - tokenize_fast: Starting batch tokenization...\n",
            "2024-10-30 13:27:10,428 - DEBUG - tokenize_fast: Starting batch tokenization...\n",
            "2024-10-30 13:27:10,421 - DEBUG - tokenize_fast: Starting batch tokenization...\n",
            "Map (num_proc=4):  25%|██▌       | 19/75 [00:00<00:00, 121.87 examples/s]2024-10-30 13:27:10,454 - DEBUG - tokenize_fast: Tokenization finished successfully.\n",
            "2024-10-30 13:27:10,452 - DEBUG - tokenize_fast: Tokenization finished successfully.\n",
            "2024-10-30 13:27:10,489 - DEBUG - tokenize_fast: Tokenization finished successfully.\n",
            "Map (num_proc=4): 100%|██████████| 75/75 [00:00<00:00, 163.99 examples/s]\n"
          ]
        },
        {
          "name": "stdout",
          "output_type": "stream",
          "text": [
            "Tokenization complete. Sample from tokenized_train: \n",
            " {'input_ids': tensor([  101,  2017,  2024,  1996, 18968,  1012,  3437,  1996,  8013, 10861,\n",
            "         5134, 11914,  1012,   102,  8013,  1024, 10047,  4699,  1999, 13131,\n",
            "         1037, 10355, 10122,  1012,  2029,  2028,  2052,  2017, 16755,  1029,\n",
            "          102,     0,     0,     0,     0,     0,     0,     0,     0,     0,\n",
            "            0,     0,     0,     0,     0,     0,     0,     0,     0,     0,\n",
            "            0,     0,     0,     0,     0,     0,     0,     0,     0,     0,\n",
            "            0,     0,     0,     0,     0,     0,     0,     0,     0,     0,\n",
            "            0,     0,     0,     0,     0,     0,     0,     0,     0,     0,\n",
            "            0,     0,     0,     0,     0,     0,     0,     0,     0,     0,\n",
            "            0,     0,     0,     0,     0,     0,     0,     0,     0,     0,\n",
            "            0,     0,     0,     0,     0,     0,     0,     0,     0,     0,\n",
            "            0,     0,     0,     0,     0,     0,     0,     0,     0,     0,\n",
            "            0,     0,     0,     0,     0,     0,     0,     0,     0,     0,\n",
            "            0,     0,     0,     0,     0,     0,     0,     0,     0,     0,\n",
            "            0,     0,     0,     0,     0,     0,     0,     0,     0,     0,\n",
            "            0,     0,     0,     0,     0,     0,     0,     0,     0,     0,\n",
            "            0,     0,     0,     0,     0,     0,     0,     0,     0,     0,\n",
            "            0,     0,     0,     0,     0,     0,     0,     0,     0,     0,\n",
            "            0,     0,     0,     0,     0,     0,     0,     0,     0,     0,\n",
            "            0,     0,     0,     0,     0,     0,     0,     0,     0,     0,\n",
            "            0,     0,     0,     0,     0,     0,     0,     0,     0,     0,\n",
            "            0,     0,     0,     0,     0,     0,     0,     0,     0,     0,\n",
            "            0,     0,     0,     0,     0,     0,     0,     0,     0,     0,\n",
            "            0,     0,     0,     0,     0,     0,     0,     0,     0,     0,\n",
            "            0,     0,     0,     0,     0,     0,     0,     0,     0,     0,\n",
            "            0,     0,     0,     0,     0,     0,     0,     0,     0,     0,\n",
            "            0,     0,     0,     0,     0,     0,     0,     0,     0,     0,\n",
            "            0,     0,     0,     0,     0,     0,     0,     0,     0,     0,\n",
            "            0,     0,     0,     0,     0,     0,     0,     0,     0,     0,\n",
            "            0,     0,     0,     0,     0,     0,     0,     0,     0,     0,\n",
            "            0,     0,     0,     0,     0,     0,     0,     0,     0,     0,\n",
            "            0,     0,     0,     0,     0,     0,     0,     0,     0,     0,\n",
            "            0,     0,     0,     0,     0,     0,     0,     0,     0,     0,\n",
            "            0,     0,     0,     0,     0,     0,     0,     0,     0,     0,\n",
            "            0,     0,     0,     0,     0,     0,     0,     0,     0,     0,\n",
            "            0,     0,     0,     0,     0,     0,     0,     0,     0,     0,\n",
            "            0,     0,     0,     0,     0,     0,     0,     0,     0,     0,\n",
            "            0,     0,     0,     0,     0,     0,     0,     0,     0,     0,\n",
            "            0,     0,     0,     0,     0,     0,     0,     0,     0,     0,\n",
            "            0,     0,     0,     0,     0,     0,     0,     0,     0,     0,\n",
            "            0,     0,     0,     0,     0,     0,     0,     0,     0,     0,\n",
            "            0,     0,     0,     0,     0,     0,     0,     0,     0,     0,\n",
            "            0,     0,     0,     0,     0,     0,     0,     0,     0,     0,\n",
            "            0,     0,     0,     0,     0,     0,     0,     0,     0,     0,\n",
            "            0,     0,     0,     0,     0,     0,     0,     0,     0,     0,\n",
            "            0,     0,     0,     0,     0,     0,     0,     0,     0,     0,\n",
            "            0,     0,     0,     0,     0,     0,     0,     0,     0,     0,\n",
            "            0,     0,     0,     0,     0,     0,     0,     0,     0,     0,\n",
            "            0,     0,     0,     0,     0,     0,     0,     0,     0,     0,\n",
            "            0,     0,     0,     0,     0,     0,     0,     0,     0,     0,\n",
            "            0,     0,     0,     0,     0,     0,     0,     0,     0,     0,\n",
            "            0,     0]), 'attention_mask': tensor([1, 1, 1, 1, 1, 1, 1, 1, 1, 1, 1, 1, 1, 1, 1, 1, 1, 1, 1, 1, 1, 1, 1, 1,\n",
            "        1, 1, 1, 1, 1, 1, 1, 0, 0, 0, 0, 0, 0, 0, 0, 0, 0, 0, 0, 0, 0, 0, 0, 0,\n",
            "        0, 0, 0, 0, 0, 0, 0, 0, 0, 0, 0, 0, 0, 0, 0, 0, 0, 0, 0, 0, 0, 0, 0, 0,\n",
            "        0, 0, 0, 0, 0, 0, 0, 0, 0, 0, 0, 0, 0, 0, 0, 0, 0, 0, 0, 0, 0, 0, 0, 0,\n",
            "        0, 0, 0, 0, 0, 0, 0, 0, 0, 0, 0, 0, 0, 0, 0, 0, 0, 0, 0, 0, 0, 0, 0, 0,\n",
            "        0, 0, 0, 0, 0, 0, 0, 0, 0, 0, 0, 0, 0, 0, 0, 0, 0, 0, 0, 0, 0, 0, 0, 0,\n",
            "        0, 0, 0, 0, 0, 0, 0, 0, 0, 0, 0, 0, 0, 0, 0, 0, 0, 0, 0, 0, 0, 0, 0, 0,\n",
            "        0, 0, 0, 0, 0, 0, 0, 0, 0, 0, 0, 0, 0, 0, 0, 0, 0, 0, 0, 0, 0, 0, 0, 0,\n",
            "        0, 0, 0, 0, 0, 0, 0, 0, 0, 0, 0, 0, 0, 0, 0, 0, 0, 0, 0, 0, 0, 0, 0, 0,\n",
            "        0, 0, 0, 0, 0, 0, 0, 0, 0, 0, 0, 0, 0, 0, 0, 0, 0, 0, 0, 0, 0, 0, 0, 0,\n",
            "        0, 0, 0, 0, 0, 0, 0, 0, 0, 0, 0, 0, 0, 0, 0, 0, 0, 0, 0, 0, 0, 0, 0, 0,\n",
            "        0, 0, 0, 0, 0, 0, 0, 0, 0, 0, 0, 0, 0, 0, 0, 0, 0, 0, 0, 0, 0, 0, 0, 0,\n",
            "        0, 0, 0, 0, 0, 0, 0, 0, 0, 0, 0, 0, 0, 0, 0, 0, 0, 0, 0, 0, 0, 0, 0, 0,\n",
            "        0, 0, 0, 0, 0, 0, 0, 0, 0, 0, 0, 0, 0, 0, 0, 0, 0, 0, 0, 0, 0, 0, 0, 0,\n",
            "        0, 0, 0, 0, 0, 0, 0, 0, 0, 0, 0, 0, 0, 0, 0, 0, 0, 0, 0, 0, 0, 0, 0, 0,\n",
            "        0, 0, 0, 0, 0, 0, 0, 0, 0, 0, 0, 0, 0, 0, 0, 0, 0, 0, 0, 0, 0, 0, 0, 0,\n",
            "        0, 0, 0, 0, 0, 0, 0, 0, 0, 0, 0, 0, 0, 0, 0, 0, 0, 0, 0, 0, 0, 0, 0, 0,\n",
            "        0, 0, 0, 0, 0, 0, 0, 0, 0, 0, 0, 0, 0, 0, 0, 0, 0, 0, 0, 0, 0, 0, 0, 0,\n",
            "        0, 0, 0, 0, 0, 0, 0, 0, 0, 0, 0, 0, 0, 0, 0, 0, 0, 0, 0, 0, 0, 0, 0, 0,\n",
            "        0, 0, 0, 0, 0, 0, 0, 0, 0, 0, 0, 0, 0, 0, 0, 0, 0, 0, 0, 0, 0, 0, 0, 0,\n",
            "        0, 0, 0, 0, 0, 0, 0, 0, 0, 0, 0, 0, 0, 0, 0, 0, 0, 0, 0, 0, 0, 0, 0, 0,\n",
            "        0, 0, 0, 0, 0, 0, 0, 0]), 'labels': tensor(0)}\n"
          ]
        }
      ],
      "source": [
        "# Tokenize datasets\n",
        "tokenized_train = train_dataset.map(tokenize_fast, batched=True, num_proc=4)\n",
        "tokenized_val = val_dataset.map(tokenize_fast, batched=True, num_proc=4)\n",
        "tokenized_test = test_dataset.map(tokenize_fast, batched=True, num_proc=4)\n",
        "tokenized_train.set_format(type='torch', columns=['input_ids', 'attention_mask', 'labels'])\n",
        "tokenized_val.set_format(type='torch', columns=['input_ids', 'attention_mask', 'labels'])\n",
        "tokenized_test.set_format(type='torch', columns=['input_ids', 'attention_mask', 'labels'])\n",
        "\n",
        "print(\"Tokenization complete. Sample from tokenized_train: \\n\", tokenized_train[0])"
      ]
    },
    {
      "cell_type": "code",
      "execution_count": 15,
      "metadata": {
        "colab": {
          "base_uri": "https://localhost:8080/"
        },
        "id": "xwBuc0LjAdAm",
        "outputId": "799ed24f-37fc-4430-9518-7a53af321872"
      },
      "outputs": [
        {
          "name": "stderr",
          "output_type": "stream",
          "text": [
            "2024-10-30 13:28:38,752 - DEBUG - https://huggingface.co:443 \"HEAD /bert-base-uncased/resolve/main/config.json HTTP/11\" 200 0\n",
            "2024-10-30 13:28:39,024 - DEBUG - https://huggingface.co:443 \"HEAD /bert-base-uncased/resolve/main/config.json HTTP/11\" 200 0\n",
            "Some weights of BertForSequenceClassification were not initialized from the model checkpoint at bert-base-uncased and are newly initialized: ['classifier.bias', 'classifier.weight']\n",
            "You should probably TRAIN this model on a down-stream task to be able to use it for predictions and inference.\n"
          ]
        },
        {
          "name": "stdout",
          "output_type": "stream",
          "text": [
            "Number of labels in model: 496\n",
            "Number of unique labels in dataset: 349\n"
          ]
        },
        {
          "name": "stderr",
          "output_type": "stream",
          "text": [
            "/home/kira/Documents/temporary_solutions/chatbot/chatbot_env/lib64/python3.10/site-packages/transformers/training_args.py:1559: FutureWarning: `evaluation_strategy` is deprecated and will be removed in version 4.46 of 🤗 Transformers. Use `eval_strategy` instead\n",
            "  warnings.warn(\n"
          ]
        }
      ],
      "source": [
        "num_labels = len(label_mapping)\n",
        "model_name = \"bert-base-uncased\"\n",
        "model = BertForSequenceClassification.from_pretrained(model_name, num_labels=num_labels)\n",
        "\n",
        "print(f\"Number of labels in model: {model.num_labels}\")\n",
        "print(f\"Number of unique labels in dataset: {len(set(tokenized_train['labels'].tolist()))}\")\n",
        "\n",
        "training_args = TrainingArguments(\n",
        "    output_dir=\"./results\",\n",
        "    num_train_epochs=6,\n",
        "    per_device_train_batch_size=8,\n",
        "    per_device_eval_batch_size=8,\n",
        "    warmup_steps=500,\n",
        "    weight_decay=0.01,\n",
        "    logging_dir=\"./logs\",\n",
        "    evaluation_strategy=\"epoch\",\n",
        "    save_strategy=\"epoch\",\n",
        "    load_best_model_at_end=True,\n",
        ")\n"
      ]
    },
    {
      "cell_type": "code",
      "execution_count": 16,
      "metadata": {
        "id": "EOOQIHpB7meE"
      },
      "outputs": [],
      "source": [
        "\n",
        "#Model\n",
        "def check_labels(dataset):\n",
        "    \"\"\"Checks if all labels in the dataset are within the valid range (0 to num_labels - 1).\"\"\"\n",
        "    labels = dataset['labels'].tolist()\n",
        "    invalid_labels = [label for label in labels if label < 0 or label >= model.num_labels]\n",
        "    if invalid_labels:\n",
        "        print(f\"Found invalid labels: {invalid_labels}\")\n",
        "        print(\"Labels must be in the range 0 to\", model.num_labels - 1)\n",
        "        return False\n",
        "    return True\n",
        "\n",
        "if not check_labels(tokenized_train):\n",
        "    raise ValueError(\"Invalid labels found in training dataset\")\n",
        "if not check_labels(tokenized_val):\n",
        "    raise ValueError(\"Invalid labels found in validation dataset\")\n",
        "if not check_labels(tokenized_test):\n",
        "    raise ValueError(\"Invalid labels found in test dataset\")"
      ]
    },
    {
      "cell_type": "code",
      "execution_count": 17,
      "metadata": {
        "id": "gg6iuiGP8dU_"
      },
      "outputs": [],
      "source": [
        "# build custom trainer\n",
        "class CustomTrainer(Trainer):\n",
        "    def compute_loss(self, model, inputs, return_outputs=False, **kwargs):\n",
        "        labels = inputs.get(\"labels\")\n",
        "        if labels is None:\n",
        "            raise ValueError(\"Labels should not be None\")\n",
        "        outputs = model(**inputs)\n",
        "        logits = outputs.get(\"logits\")\n",
        "\n",
        "        logits = logits.contiguous()\n",
        "        labels = labels.contiguous()\n",
        "\n",
        "        loss = F.cross_entropy(logits, labels)\n",
        "\n",
        "        return (loss, outputs) if return_outputs else loss\n",
        "\n"
      ]
    },
    {
      "cell_type": "code",
      "execution_count": 26,
      "metadata": {},
      "outputs": [],
      "source": [
        "# set up a custom trainer\n",
        "early_stopping_callback = EarlyStoppingCallback(early_stopping_patience=3)\n",
        "\n",
        "trainer = CustomTrainer(\n",
        "    model=model,\n",
        "    args=training_args,\n",
        "    train_dataset=tokenized_train,\n",
        "    eval_dataset=tokenized_val,\n",
        "    callbacks=[early_stopping_callback] \n",
        "\n",
        ")"
      ]
    },
    {
      "cell_type": "code",
      "execution_count": 18,
      "metadata": {
        "colab": {
          "base_uri": "https://localhost:8080/",
          "height": 381
        },
        "id": "Erwbsq8OARvb",
        "outputId": "1c66b364-c180-458d-b6b7-b9f9dbb22bd3"
      },
      "outputs": [
        {
          "name": "stderr",
          "output_type": "stream",
          "text": [
            "  0%|          | 0/264 [00:00<?, ?it/s]"
          ]
        },
        {
          "name": "stderr",
          "output_type": "stream",
          "text": [
            "                                                  \n",
            " 17%|█▋        | 44/264 [25:48<1:48:25, 29.57s/it]"
          ]
        },
        {
          "name": "stdout",
          "output_type": "stream",
          "text": [
            "{'eval_loss': 6.246739387512207, 'eval_runtime': 75.8899, 'eval_samples_per_second': 0.988, 'eval_steps_per_second': 0.132, 'epoch': 1.0}\n"
          ]
        },
        {
          "name": "stderr",
          "output_type": "stream",
          "text": [
            "                                                  \n",
            " 33%|███▎      | 88/264 [52:38<1:37:59, 33.40s/it]"
          ]
        },
        {
          "name": "stdout",
          "output_type": "stream",
          "text": [
            "{'eval_loss': 6.297903537750244, 'eval_runtime': 85.1021, 'eval_samples_per_second': 0.881, 'eval_steps_per_second': 0.118, 'epoch': 2.0}\n"
          ]
        },
        {
          "name": "stderr",
          "output_type": "stream",
          "text": [
            "                                                     \n",
            " 50%|█████     | 132/264 [1:19:57<1:12:48, 33.09s/it]"
          ]
        },
        {
          "name": "stdout",
          "output_type": "stream",
          "text": [
            "{'eval_loss': 6.324437141418457, 'eval_runtime': 83.912, 'eval_samples_per_second': 0.894, 'eval_steps_per_second': 0.119, 'epoch': 3.0}\n"
          ]
        },
        {
          "name": "stderr",
          "output_type": "stream",
          "text": [
            "                                                     \n",
            " 67%|██████▋   | 176/264 [1:47:25<48:46, 33.25s/it]"
          ]
        },
        {
          "name": "stdout",
          "output_type": "stream",
          "text": [
            "{'eval_loss': 6.433151721954346, 'eval_runtime': 81.8612, 'eval_samples_per_second': 0.916, 'eval_steps_per_second': 0.122, 'epoch': 4.0}\n"
          ]
        },
        {
          "name": "stderr",
          "output_type": "stream",
          "text": [
            " 67%|██████▋   | 176/264 [1:47:27<53:43, 36.64s/it]"
          ]
        },
        {
          "name": "stdout",
          "output_type": "stream",
          "text": [
            "{'train_runtime': 6447.8244, 'train_samples_per_second': 0.326, 'train_steps_per_second': 0.041, 'train_loss': 6.202252474698153, 'epoch': 4.0}\n"
          ]
        },
        {
          "name": "stderr",
          "output_type": "stream",
          "text": [
            "\n"
          ]
        },
        {
          "data": {
            "text/plain": [
              "TrainOutput(global_step=176, training_loss=6.202252474698153, metrics={'train_runtime': 6447.8244, 'train_samples_per_second': 0.326, 'train_steps_per_second': 0.041, 'total_flos': 369989291212800.0, 'train_loss': 6.202252474698153, 'epoch': 4.0})"
            ]
          },
          "execution_count": 18,
          "metadata": {},
          "output_type": "execute_result"
        }
      ],
      "source": [
        "trainer.train()"
      ]
    },
    {
      "cell_type": "code",
      "execution_count": 19,
      "metadata": {
        "colab": {
          "base_uri": "https://localhost:8080/"
        },
        "id": "vcnNiOZN9FnE",
        "outputId": "61f0da54-0c1f-40e5-a620-52cb4df2fd6f"
      },
      "outputs": [
        {
          "data": {
            "text/plain": [
              "('./saved_model/tokenizer_config.json',\n",
              " './saved_model/special_tokens_map.json',\n",
              " './saved_model/vocab.txt',\n",
              " './saved_model/added_tokens.json',\n",
              " './saved_model/tokenizer.json')"
            ]
          },
          "execution_count": 19,
          "metadata": {},
          "output_type": "execute_result"
        }
      ],
      "source": [
        "# save the model\n",
        "model_path = \"./saved_model\"\n",
        "os.makedirs(model_path, exist_ok=True)\n",
        "model.save_pretrained(model_path)\n",
        "tokenizer.save_pretrained(model_path)"
      ]
    },
    {
      "cell_type": "code",
      "execution_count": 38,
      "metadata": {
        "colab": {
          "base_uri": "https://localhost:8080/"
        },
        "id": "yaVmD5f-Rj9O",
        "outputId": "d8656008-b111-4b8d-c522-e21cebdc179a"
      },
      "outputs": [],
      "source": [
        "# predict response\n",
        "def predict_response(instruction, input_text):\n",
        "    model.to(device)\n",
        "    cleaned_instruction = clean_text(instruction)\n",
        "    cleaned_input = clean_text(input_text)\n",
        "    inputs = tokenizer(f\"{cleaned_instruction} {cleaned_input}\", return_tensors=\"pt\", truncation=True, padding=\"max_length\", max_length=512)\n",
        "    inputs = {k: v.to(device) for k, v in inputs.items()}\n",
        "    \n",
        "    with torch.no_grad():\n",
        "        outputs = model(**inputs)\n",
        "        \n",
        "    logits = outputs.logits\n",
        "    predicted_id = torch.argmax(logits, dim=-1).item()\n",
        "    prediction = list(label_mapping.keys())[list(label_mapping.values()).index(predicted_id)]\n",
        "    semantic_results = semantic_search(f\"{cleaned_instruction} {cleaned_input}\")\n",
        "    print(f\"Semantic Search Results: {semantic_results}\")\n",
        "    \n",
        "    if prediction in [result[0] for result in semantic_results]:\n",
        "        return prediction\n",
        "    else:\n",
        "        return semantic_results[0][0]\n"
      ]
    },
    {
      "cell_type": "code",
      "execution_count": 44,
      "metadata": {
        "id": "VSfqDB7H5Y9L"
      },
      "outputs": [
        {
          "name": "stdout",
          "output_type": "stream",
          "text": [
            "Welcome to the Sales Chatbot! Type 'exit' to quit.\n",
            "\n"
          ]
        },
        {
          "name": "stderr",
          "output_type": "stream",
          "text": [
            "Batches: 100%|██████████| 1/1 [00:00<00:00, 31.38it/s]\n"
          ]
        },
        {
          "name": "stdout",
          "output_type": "stream",
          "text": [
            "Semantic Search Results: [('Salesman: Of course! Id be happy to assist you. What specific requirements do you have in mind for your new laptop?', 0.7182983), ('Salesman: Of course! Id be happy to assist you. Tell me, what are your specific requirements and preferences for a laptop?', 0.715651), ('Salesman: Of course! Id be happy to assist you. Tell me, what are your specific requirements and needs for a laptop?', 0.7136535), ('Salesman: Of course! Id be happy to assist you. What are your specific requirements and preferences for a laptop?', 0.71259975), ('Salesman: Of course! Id be happy to assist you. Tell me more about your requirements and what youre looking for in a laptop.', 0.7074313)]\n",
            "\n",
            "Instruction: You are a salesman chatbot, please answer the sales questions based on the provided description.\n",
            "Question: Hey! can you help me buy a new laptop?\n",
            "Answer (Prediction): Salesman: Of course! Id be happy to assist you. What specific requirements do you have in mind for your new laptop?\n",
            "\n"
          ]
        },
        {
          "name": "stderr",
          "output_type": "stream",
          "text": [
            "Batches: 100%|██████████| 1/1 [00:00<00:00, 23.52it/s]\n"
          ]
        },
        {
          "name": "stdout",
          "output_type": "stream",
          "text": [
            "Semantic Search Results: [('Salesman: Of course! Id be happy to help. Can you share your preferences and requirements for a smartphone?', 0.670928), ('Salesman: Of course! I understand how frustrating that can be. Lets discuss your needs and find the perfect phone for you.', 0.65829486), ('Salesman: Of course, Id be happy to assist you. May I ask what features are most important to you in a smartphone?', 0.5965376), ('Salesman: Great! Id be happy to assist you. May I ask what features you are looking for in a smartphone?', 0.5934113), ('Salesman: I understand your frustration. It can be really frustrating when technology doesnt work as expected. Lets explore some alternative smartphone options that can better meet your needs and provide a smoother experience.', 0.53704876)]\n",
            "\n",
            "Instruction: You are a salesman chatbot, please answer the sales questions based on the provided description.\n",
            "Question: Nevermind , I want to buy a phone instead.\n",
            "Answer (Prediction): Salesman: Of course! Id be happy to help. Can you share your preferences and requirements for a smartphone?\n",
            "\n"
          ]
        },
        {
          "name": "stderr",
          "output_type": "stream",
          "text": [
            "Batches: 100%|██████████| 1/1 [00:00<00:00, 46.06it/s]\n"
          ]
        },
        {
          "name": "stdout",
          "output_type": "stream",
          "text": [
            "Semantic Search Results: [('Salesman: I understand your preference for a good camera. Let me show you our latest models with advanced camera features.', 0.60999537), ('Salesman: Absolutely! Understanding your needs is important. Could you let me know what other features you prioritize besides the camera?', 0.6057595), ('Salesman: I understand the importance of having a smartphone with a superior camera. Lets explore some options that meet your requirements and discuss their features in detail.', 0.6030525), ('Salesman: Great! It would be helpful to know more about your photography needs and preferences. Could you share some details about your project?', 0.5745277), ('Salesman: Of course! Id be happy to provide you with all the information you need. But first, may I ask what specific features youre looking for in a tech product?', 0.56919056)]\n",
            "\n",
            "Instruction: You are a salesman chatbot, please answer the sales questions based on the provided description.\n",
            "Question: good cameras\n",
            "Answer (Prediction): Salesman: I understand your preference for a good camera. Let me show you our latest models with advanced camera features.\n",
            "\n"
          ]
        },
        {
          "name": "stderr",
          "output_type": "stream",
          "text": [
            "Batches: 100%|██████████| 1/1 [00:00<00:00, 43.92it/s]\n"
          ]
        },
        {
          "name": "stdout",
          "output_type": "stream",
          "text": [
            "Semantic Search Results: [('Salesman: Of course! Id be happy to provide more information. May I ask what specifically caught your interest?', 0.63908386), ('Salesman: Youre welcome! If you have any further questions or need any additional information, feel free to reach out to me anytime. Have a great day!', 0.613834), ('Salesman: Of course! Id be happy to assist you. Tell me more about what youre looking for.', 0.6062995), ('Salesman: Of course! Id be happy to assist you. Tell me, what are your specific requirements and preferences?', 0.6023723), ('Salesman: Of course! Id be happy to assist you. Tell me more about your requirements and preferences.', 0.598987)]\n",
            "\n",
            "Instruction: You are a salesman chatbot, please answer the sales questions based on the provided description.\n",
            "Question: \n",
            "Answer (Prediction): Salesman: Of course! Id be happy to provide more information. May I ask what specifically caught your interest?\n",
            "\n",
            "Goodbye!\n"
          ]
        }
      ],
      "source": [
        "def main():\n",
        "    instruction_input = \"You are a salesman chatbot, please answer the sales questions based on the provided description.\"\n",
        "\n",
        "    print(\"Welcome to the Sales Chatbot! Type 'exit' to quit.\\n\")\n",
        "\n",
        "    while True:\n",
        "        sample_input = input(\"Please enter your question: \")\n",
        "        \n",
        "        if sample_input.lower() == 'exit':\n",
        "            print(\"Goodbye!\")\n",
        "            break\n",
        "        \n",
        "        predicted_label = predict_response(instruction_input, sample_input)\n",
        "\n",
        "        print(f\"\\nInstruction: {instruction_input}\")\n",
        "        print(f\"Question: {sample_input}\")\n",
        "        print(f\"Answer (Prediction): {predicted_label}\\n\")\n",
        "\n",
        "if __name__ == \"__main__\":\n",
        "    main()\n"
      ]
    },
    {
      "cell_type": "markdown",
      "metadata": {},
      "source": [
        "note: I forgot to remove the salesman and customer from the data i used to train, but training was taking a lot of time and resources which I am struggling with currently."
      ]
    },
    {
      "cell_type": "code",
      "execution_count": null,
      "metadata": {},
      "outputs": [],
      "source": []
    }
  ],
  "metadata": {
    "accelerator": "GPU",
    "colab": {
      "gpuType": "T4",
      "provenance": []
    },
    "kernelspec": {
      "display_name": "chatbot_env",
      "language": "python",
      "name": "python3"
    },
    "language_info": {
      "codemirror_mode": {
        "name": "ipython",
        "version": 3
      },
      "file_extension": ".py",
      "mimetype": "text/x-python",
      "name": "python",
      "nbconvert_exporter": "python",
      "pygments_lexer": "ipython3",
      "version": "3.10.15"
    },
    "widgets": {
      "application/vnd.jupyter.widget-state+json": {
        "0e1aa1d3de0b40f8b394b9c0b339d22c": {
          "model_module": "@jupyter-widgets/base",
          "model_module_version": "1.2.0",
          "model_name": "LayoutModel",
          "state": {
            "_model_module": "@jupyter-widgets/base",
            "_model_module_version": "1.2.0",
            "_model_name": "LayoutModel",
            "_view_count": null,
            "_view_module": "@jupyter-widgets/base",
            "_view_module_version": "1.2.0",
            "_view_name": "LayoutView",
            "align_content": null,
            "align_items": null,
            "align_self": null,
            "border": null,
            "bottom": null,
            "display": null,
            "flex": null,
            "flex_flow": null,
            "grid_area": null,
            "grid_auto_columns": null,
            "grid_auto_flow": null,
            "grid_auto_rows": null,
            "grid_column": null,
            "grid_gap": null,
            "grid_row": null,
            "grid_template_areas": null,
            "grid_template_columns": null,
            "grid_template_rows": null,
            "height": null,
            "justify_content": null,
            "justify_items": null,
            "left": null,
            "margin": null,
            "max_height": null,
            "max_width": null,
            "min_height": null,
            "min_width": null,
            "object_fit": null,
            "object_position": null,
            "order": null,
            "overflow": null,
            "overflow_x": null,
            "overflow_y": null,
            "padding": null,
            "right": null,
            "top": null,
            "visibility": null,
            "width": null
          }
        },
        "162db4a606804fc0938d721036ef1c3d": {
          "model_module": "@jupyter-widgets/base",
          "model_module_version": "1.2.0",
          "model_name": "LayoutModel",
          "state": {
            "_model_module": "@jupyter-widgets/base",
            "_model_module_version": "1.2.0",
            "_model_name": "LayoutModel",
            "_view_count": null,
            "_view_module": "@jupyter-widgets/base",
            "_view_module_version": "1.2.0",
            "_view_name": "LayoutView",
            "align_content": null,
            "align_items": null,
            "align_self": null,
            "border": null,
            "bottom": null,
            "display": null,
            "flex": null,
            "flex_flow": null,
            "grid_area": null,
            "grid_auto_columns": null,
            "grid_auto_flow": null,
            "grid_auto_rows": null,
            "grid_column": null,
            "grid_gap": null,
            "grid_row": null,
            "grid_template_areas": null,
            "grid_template_columns": null,
            "grid_template_rows": null,
            "height": null,
            "justify_content": null,
            "justify_items": null,
            "left": null,
            "margin": null,
            "max_height": null,
            "max_width": null,
            "min_height": null,
            "min_width": null,
            "object_fit": null,
            "object_position": null,
            "order": null,
            "overflow": null,
            "overflow_x": null,
            "overflow_y": null,
            "padding": null,
            "right": null,
            "top": null,
            "visibility": null,
            "width": null
          }
        },
        "1bba7497beec430e923220db07da401c": {
          "model_module": "@jupyter-widgets/controls",
          "model_module_version": "1.5.0",
          "model_name": "HTMLModel",
          "state": {
            "_dom_classes": [],
            "_model_module": "@jupyter-widgets/controls",
            "_model_module_version": "1.5.0",
            "_model_name": "HTMLModel",
            "_view_count": null,
            "_view_module": "@jupyter-widgets/controls",
            "_view_module_version": "1.5.0",
            "_view_name": "HTMLView",
            "description": "",
            "description_tooltip": null,
            "layout": "IPY_MODEL_3a154635201147d6a5ed7997d91f4c06",
            "placeholder": "​",
            "style": "IPY_MODEL_1f290af0753a441a8b110651426b3420",
            "value": "Map (num_proc=4): 100%"
          }
        },
        "1e8d6c6da2e5404998df8431aeb7dbb3": {
          "model_module": "@jupyter-widgets/controls",
          "model_module_version": "1.5.0",
          "model_name": "HTMLModel",
          "state": {
            "_dom_classes": [],
            "_model_module": "@jupyter-widgets/controls",
            "_model_module_version": "1.5.0",
            "_model_name": "HTMLModel",
            "_view_count": null,
            "_view_module": "@jupyter-widgets/controls",
            "_view_module_version": "1.5.0",
            "_view_name": "HTMLView",
            "description": "",
            "description_tooltip": null,
            "layout": "IPY_MODEL_bc54e1e987304d4493252d7a3497107e",
            "placeholder": "​",
            "style": "IPY_MODEL_76343ac0a4d144f8ba6aceea55a57a55",
            "value": "Map (num_proc=4): 100%"
          }
        },
        "1f290af0753a441a8b110651426b3420": {
          "model_module": "@jupyter-widgets/controls",
          "model_module_version": "1.5.0",
          "model_name": "DescriptionStyleModel",
          "state": {
            "_model_module": "@jupyter-widgets/controls",
            "_model_module_version": "1.5.0",
            "_model_name": "DescriptionStyleModel",
            "_view_count": null,
            "_view_module": "@jupyter-widgets/base",
            "_view_module_version": "1.2.0",
            "_view_name": "StyleView",
            "description_width": ""
          }
        },
        "27ffa2378276463b871b41b23f9082d3": {
          "model_module": "@jupyter-widgets/base",
          "model_module_version": "1.2.0",
          "model_name": "LayoutModel",
          "state": {
            "_model_module": "@jupyter-widgets/base",
            "_model_module_version": "1.2.0",
            "_model_name": "LayoutModel",
            "_view_count": null,
            "_view_module": "@jupyter-widgets/base",
            "_view_module_version": "1.2.0",
            "_view_name": "LayoutView",
            "align_content": null,
            "align_items": null,
            "align_self": null,
            "border": null,
            "bottom": null,
            "display": null,
            "flex": null,
            "flex_flow": null,
            "grid_area": null,
            "grid_auto_columns": null,
            "grid_auto_flow": null,
            "grid_auto_rows": null,
            "grid_column": null,
            "grid_gap": null,
            "grid_row": null,
            "grid_template_areas": null,
            "grid_template_columns": null,
            "grid_template_rows": null,
            "height": null,
            "justify_content": null,
            "justify_items": null,
            "left": null,
            "margin": null,
            "max_height": null,
            "max_width": null,
            "min_height": null,
            "min_width": null,
            "object_fit": null,
            "object_position": null,
            "order": null,
            "overflow": null,
            "overflow_x": null,
            "overflow_y": null,
            "padding": null,
            "right": null,
            "top": null,
            "visibility": null,
            "width": null
          }
        },
        "293c6428b7d14876bf5ded118f08cdc7": {
          "model_module": "@jupyter-widgets/controls",
          "model_module_version": "1.5.0",
          "model_name": "HBoxModel",
          "state": {
            "_dom_classes": [],
            "_model_module": "@jupyter-widgets/controls",
            "_model_module_version": "1.5.0",
            "_model_name": "HBoxModel",
            "_view_count": null,
            "_view_module": "@jupyter-widgets/controls",
            "_view_module_version": "1.5.0",
            "_view_name": "HBoxView",
            "box_style": "",
            "children": [
              "IPY_MODEL_1e8d6c6da2e5404998df8431aeb7dbb3",
              "IPY_MODEL_ef723f4aa0cd4f9996bb80671a408747",
              "IPY_MODEL_37c92146df614f158599e02a85d2afd8"
            ],
            "layout": "IPY_MODEL_27ffa2378276463b871b41b23f9082d3"
          }
        },
        "2f97fb76db8346418216e25b550e820e": {
          "model_module": "@jupyter-widgets/controls",
          "model_module_version": "1.5.0",
          "model_name": "HBoxModel",
          "state": {
            "_dom_classes": [],
            "_model_module": "@jupyter-widgets/controls",
            "_model_module_version": "1.5.0",
            "_model_name": "HBoxModel",
            "_view_count": null,
            "_view_module": "@jupyter-widgets/controls",
            "_view_module_version": "1.5.0",
            "_view_name": "HBoxView",
            "box_style": "",
            "children": [
              "IPY_MODEL_51ba6f8b0d974512b8ab3e89bf7538bf",
              "IPY_MODEL_d49d0bd3523d40acb64ecf2f766753c9",
              "IPY_MODEL_993ab935a6d44dc0a41914a8f2c5a75d"
            ],
            "layout": "IPY_MODEL_5928d1e3e81f414c8eebdf95a43c9b0c"
          }
        },
        "37c92146df614f158599e02a85d2afd8": {
          "model_module": "@jupyter-widgets/controls",
          "model_module_version": "1.5.0",
          "model_name": "HTMLModel",
          "state": {
            "_dom_classes": [],
            "_model_module": "@jupyter-widgets/controls",
            "_model_module_version": "1.5.0",
            "_model_name": "HTMLModel",
            "_view_count": null,
            "_view_module": "@jupyter-widgets/controls",
            "_view_module_version": "1.5.0",
            "_view_name": "HTMLView",
            "description": "",
            "description_tooltip": null,
            "layout": "IPY_MODEL_0e1aa1d3de0b40f8b394b9c0b339d22c",
            "placeholder": "​",
            "style": "IPY_MODEL_bb5545cddf6240f2b4e3533c3235133d",
            "value": " 210/210 [00:01&lt;00:00, 75.32 examples/s]"
          }
        },
        "3a154635201147d6a5ed7997d91f4c06": {
          "model_module": "@jupyter-widgets/base",
          "model_module_version": "1.2.0",
          "model_name": "LayoutModel",
          "state": {
            "_model_module": "@jupyter-widgets/base",
            "_model_module_version": "1.2.0",
            "_model_name": "LayoutModel",
            "_view_count": null,
            "_view_module": "@jupyter-widgets/base",
            "_view_module_version": "1.2.0",
            "_view_name": "LayoutView",
            "align_content": null,
            "align_items": null,
            "align_self": null,
            "border": null,
            "bottom": null,
            "display": null,
            "flex": null,
            "flex_flow": null,
            "grid_area": null,
            "grid_auto_columns": null,
            "grid_auto_flow": null,
            "grid_auto_rows": null,
            "grid_column": null,
            "grid_gap": null,
            "grid_row": null,
            "grid_template_areas": null,
            "grid_template_columns": null,
            "grid_template_rows": null,
            "height": null,
            "justify_content": null,
            "justify_items": null,
            "left": null,
            "margin": null,
            "max_height": null,
            "max_width": null,
            "min_height": null,
            "min_width": null,
            "object_fit": null,
            "object_position": null,
            "order": null,
            "overflow": null,
            "overflow_x": null,
            "overflow_y": null,
            "padding": null,
            "right": null,
            "top": null,
            "visibility": null,
            "width": null
          }
        },
        "3f36c18ddf7a4f909e4397ed2a33122e": {
          "model_module": "@jupyter-widgets/controls",
          "model_module_version": "1.5.0",
          "model_name": "ProgressStyleModel",
          "state": {
            "_model_module": "@jupyter-widgets/controls",
            "_model_module_version": "1.5.0",
            "_model_name": "ProgressStyleModel",
            "_view_count": null,
            "_view_module": "@jupyter-widgets/base",
            "_view_module_version": "1.2.0",
            "_view_name": "StyleView",
            "bar_color": null,
            "description_width": ""
          }
        },
        "51ba6f8b0d974512b8ab3e89bf7538bf": {
          "model_module": "@jupyter-widgets/controls",
          "model_module_version": "1.5.0",
          "model_name": "HTMLModel",
          "state": {
            "_dom_classes": [],
            "_model_module": "@jupyter-widgets/controls",
            "_model_module_version": "1.5.0",
            "_model_name": "HTMLModel",
            "_view_count": null,
            "_view_module": "@jupyter-widgets/controls",
            "_view_module_version": "1.5.0",
            "_view_name": "HTMLView",
            "description": "",
            "description_tooltip": null,
            "layout": "IPY_MODEL_da39da1bcee449e8823411a27cadcb56",
            "placeholder": "​",
            "style": "IPY_MODEL_69d61e18e1404d07a2a4ae81d5d512d5",
            "value": "Map (num_proc=4): 100%"
          }
        },
        "55acb89441e049e5958ca82390ba3b63": {
          "model_module": "@jupyter-widgets/base",
          "model_module_version": "1.2.0",
          "model_name": "LayoutModel",
          "state": {
            "_model_module": "@jupyter-widgets/base",
            "_model_module_version": "1.2.0",
            "_model_name": "LayoutModel",
            "_view_count": null,
            "_view_module": "@jupyter-widgets/base",
            "_view_module_version": "1.2.0",
            "_view_name": "LayoutView",
            "align_content": null,
            "align_items": null,
            "align_self": null,
            "border": null,
            "bottom": null,
            "display": null,
            "flex": null,
            "flex_flow": null,
            "grid_area": null,
            "grid_auto_columns": null,
            "grid_auto_flow": null,
            "grid_auto_rows": null,
            "grid_column": null,
            "grid_gap": null,
            "grid_row": null,
            "grid_template_areas": null,
            "grid_template_columns": null,
            "grid_template_rows": null,
            "height": null,
            "justify_content": null,
            "justify_items": null,
            "left": null,
            "margin": null,
            "max_height": null,
            "max_width": null,
            "min_height": null,
            "min_width": null,
            "object_fit": null,
            "object_position": null,
            "order": null,
            "overflow": null,
            "overflow_x": null,
            "overflow_y": null,
            "padding": null,
            "right": null,
            "top": null,
            "visibility": null,
            "width": null
          }
        },
        "5928d1e3e81f414c8eebdf95a43c9b0c": {
          "model_module": "@jupyter-widgets/base",
          "model_module_version": "1.2.0",
          "model_name": "LayoutModel",
          "state": {
            "_model_module": "@jupyter-widgets/base",
            "_model_module_version": "1.2.0",
            "_model_name": "LayoutModel",
            "_view_count": null,
            "_view_module": "@jupyter-widgets/base",
            "_view_module_version": "1.2.0",
            "_view_name": "LayoutView",
            "align_content": null,
            "align_items": null,
            "align_self": null,
            "border": null,
            "bottom": null,
            "display": null,
            "flex": null,
            "flex_flow": null,
            "grid_area": null,
            "grid_auto_columns": null,
            "grid_auto_flow": null,
            "grid_auto_rows": null,
            "grid_column": null,
            "grid_gap": null,
            "grid_row": null,
            "grid_template_areas": null,
            "grid_template_columns": null,
            "grid_template_rows": null,
            "height": null,
            "justify_content": null,
            "justify_items": null,
            "left": null,
            "margin": null,
            "max_height": null,
            "max_width": null,
            "min_height": null,
            "min_width": null,
            "object_fit": null,
            "object_position": null,
            "order": null,
            "overflow": null,
            "overflow_x": null,
            "overflow_y": null,
            "padding": null,
            "right": null,
            "top": null,
            "visibility": null,
            "width": null
          }
        },
        "5b7e5cc46af04f4fabe4c8cb36734ebc": {
          "model_module": "@jupyter-widgets/controls",
          "model_module_version": "1.5.0",
          "model_name": "FloatProgressModel",
          "state": {
            "_dom_classes": [],
            "_model_module": "@jupyter-widgets/controls",
            "_model_module_version": "1.5.0",
            "_model_name": "FloatProgressModel",
            "_view_count": null,
            "_view_module": "@jupyter-widgets/controls",
            "_view_module_version": "1.5.0",
            "_view_name": "ProgressView",
            "bar_style": "success",
            "description": "",
            "description_tooltip": null,
            "layout": "IPY_MODEL_7c2ad85faef648d8b9ae6d50e303c213",
            "max": 45,
            "min": 0,
            "orientation": "horizontal",
            "style": "IPY_MODEL_fe2148759113426cb6dfa6af637b620c",
            "value": 45
          }
        },
        "69d61e18e1404d07a2a4ae81d5d512d5": {
          "model_module": "@jupyter-widgets/controls",
          "model_module_version": "1.5.0",
          "model_name": "DescriptionStyleModel",
          "state": {
            "_model_module": "@jupyter-widgets/controls",
            "_model_module_version": "1.5.0",
            "_model_name": "DescriptionStyleModel",
            "_view_count": null,
            "_view_module": "@jupyter-widgets/base",
            "_view_module_version": "1.2.0",
            "_view_name": "StyleView",
            "description_width": ""
          }
        },
        "76343ac0a4d144f8ba6aceea55a57a55": {
          "model_module": "@jupyter-widgets/controls",
          "model_module_version": "1.5.0",
          "model_name": "DescriptionStyleModel",
          "state": {
            "_model_module": "@jupyter-widgets/controls",
            "_model_module_version": "1.5.0",
            "_model_name": "DescriptionStyleModel",
            "_view_count": null,
            "_view_module": "@jupyter-widgets/base",
            "_view_module_version": "1.2.0",
            "_view_name": "StyleView",
            "description_width": ""
          }
        },
        "7c2ad85faef648d8b9ae6d50e303c213": {
          "model_module": "@jupyter-widgets/base",
          "model_module_version": "1.2.0",
          "model_name": "LayoutModel",
          "state": {
            "_model_module": "@jupyter-widgets/base",
            "_model_module_version": "1.2.0",
            "_model_name": "LayoutModel",
            "_view_count": null,
            "_view_module": "@jupyter-widgets/base",
            "_view_module_version": "1.2.0",
            "_view_name": "LayoutView",
            "align_content": null,
            "align_items": null,
            "align_self": null,
            "border": null,
            "bottom": null,
            "display": null,
            "flex": null,
            "flex_flow": null,
            "grid_area": null,
            "grid_auto_columns": null,
            "grid_auto_flow": null,
            "grid_auto_rows": null,
            "grid_column": null,
            "grid_gap": null,
            "grid_row": null,
            "grid_template_areas": null,
            "grid_template_columns": null,
            "grid_template_rows": null,
            "height": null,
            "justify_content": null,
            "justify_items": null,
            "left": null,
            "margin": null,
            "max_height": null,
            "max_width": null,
            "min_height": null,
            "min_width": null,
            "object_fit": null,
            "object_position": null,
            "order": null,
            "overflow": null,
            "overflow_x": null,
            "overflow_y": null,
            "padding": null,
            "right": null,
            "top": null,
            "visibility": null,
            "width": null
          }
        },
        "7e83a5ad896f46fa81d793e92d63917e": {
          "model_module": "@jupyter-widgets/controls",
          "model_module_version": "1.5.0",
          "model_name": "HBoxModel",
          "state": {
            "_dom_classes": [],
            "_model_module": "@jupyter-widgets/controls",
            "_model_module_version": "1.5.0",
            "_model_name": "HBoxModel",
            "_view_count": null,
            "_view_module": "@jupyter-widgets/controls",
            "_view_module_version": "1.5.0",
            "_view_name": "HBoxView",
            "box_style": "",
            "children": [
              "IPY_MODEL_1bba7497beec430e923220db07da401c",
              "IPY_MODEL_5b7e5cc46af04f4fabe4c8cb36734ebc",
              "IPY_MODEL_a26783c0bd0d484c9d419fd8cc63d988"
            ],
            "layout": "IPY_MODEL_55acb89441e049e5958ca82390ba3b63"
          }
        },
        "814d4fd1c320452c9d008e9c20284b3e": {
          "model_module": "@jupyter-widgets/controls",
          "model_module_version": "1.5.0",
          "model_name": "DescriptionStyleModel",
          "state": {
            "_model_module": "@jupyter-widgets/controls",
            "_model_module_version": "1.5.0",
            "_model_name": "DescriptionStyleModel",
            "_view_count": null,
            "_view_module": "@jupyter-widgets/base",
            "_view_module_version": "1.2.0",
            "_view_name": "StyleView",
            "description_width": ""
          }
        },
        "916b7ab0dba7404ba6fc7e289211579f": {
          "model_module": "@jupyter-widgets/controls",
          "model_module_version": "1.5.0",
          "model_name": "ProgressStyleModel",
          "state": {
            "_model_module": "@jupyter-widgets/controls",
            "_model_module_version": "1.5.0",
            "_model_name": "ProgressStyleModel",
            "_view_count": null,
            "_view_module": "@jupyter-widgets/base",
            "_view_module_version": "1.2.0",
            "_view_name": "StyleView",
            "bar_color": null,
            "description_width": ""
          }
        },
        "990ef655d5754fedb7c96bd4320f5898": {
          "model_module": "@jupyter-widgets/base",
          "model_module_version": "1.2.0",
          "model_name": "LayoutModel",
          "state": {
            "_model_module": "@jupyter-widgets/base",
            "_model_module_version": "1.2.0",
            "_model_name": "LayoutModel",
            "_view_count": null,
            "_view_module": "@jupyter-widgets/base",
            "_view_module_version": "1.2.0",
            "_view_name": "LayoutView",
            "align_content": null,
            "align_items": null,
            "align_self": null,
            "border": null,
            "bottom": null,
            "display": null,
            "flex": null,
            "flex_flow": null,
            "grid_area": null,
            "grid_auto_columns": null,
            "grid_auto_flow": null,
            "grid_auto_rows": null,
            "grid_column": null,
            "grid_gap": null,
            "grid_row": null,
            "grid_template_areas": null,
            "grid_template_columns": null,
            "grid_template_rows": null,
            "height": null,
            "justify_content": null,
            "justify_items": null,
            "left": null,
            "margin": null,
            "max_height": null,
            "max_width": null,
            "min_height": null,
            "min_width": null,
            "object_fit": null,
            "object_position": null,
            "order": null,
            "overflow": null,
            "overflow_x": null,
            "overflow_y": null,
            "padding": null,
            "right": null,
            "top": null,
            "visibility": null,
            "width": null
          }
        },
        "9911933efcb74502bbb1b8e85c1a45c2": {
          "model_module": "@jupyter-widgets/base",
          "model_module_version": "1.2.0",
          "model_name": "LayoutModel",
          "state": {
            "_model_module": "@jupyter-widgets/base",
            "_model_module_version": "1.2.0",
            "_model_name": "LayoutModel",
            "_view_count": null,
            "_view_module": "@jupyter-widgets/base",
            "_view_module_version": "1.2.0",
            "_view_name": "LayoutView",
            "align_content": null,
            "align_items": null,
            "align_self": null,
            "border": null,
            "bottom": null,
            "display": null,
            "flex": null,
            "flex_flow": null,
            "grid_area": null,
            "grid_auto_columns": null,
            "grid_auto_flow": null,
            "grid_auto_rows": null,
            "grid_column": null,
            "grid_gap": null,
            "grid_row": null,
            "grid_template_areas": null,
            "grid_template_columns": null,
            "grid_template_rows": null,
            "height": null,
            "justify_content": null,
            "justify_items": null,
            "left": null,
            "margin": null,
            "max_height": null,
            "max_width": null,
            "min_height": null,
            "min_width": null,
            "object_fit": null,
            "object_position": null,
            "order": null,
            "overflow": null,
            "overflow_x": null,
            "overflow_y": null,
            "padding": null,
            "right": null,
            "top": null,
            "visibility": null,
            "width": null
          }
        },
        "993ab935a6d44dc0a41914a8f2c5a75d": {
          "model_module": "@jupyter-widgets/controls",
          "model_module_version": "1.5.0",
          "model_name": "HTMLModel",
          "state": {
            "_dom_classes": [],
            "_model_module": "@jupyter-widgets/controls",
            "_model_module_version": "1.5.0",
            "_model_name": "HTMLModel",
            "_view_count": null,
            "_view_module": "@jupyter-widgets/controls",
            "_view_module_version": "1.5.0",
            "_view_name": "HTMLView",
            "description": "",
            "description_tooltip": null,
            "layout": "IPY_MODEL_162db4a606804fc0938d721036ef1c3d",
            "placeholder": "​",
            "style": "IPY_MODEL_c22ea276e5d746eab2b22709e71ebdcf",
            "value": " 45/45 [00:00&lt;00:00, 82.49 examples/s]"
          }
        },
        "a26783c0bd0d484c9d419fd8cc63d988": {
          "model_module": "@jupyter-widgets/controls",
          "model_module_version": "1.5.0",
          "model_name": "HTMLModel",
          "state": {
            "_dom_classes": [],
            "_model_module": "@jupyter-widgets/controls",
            "_model_module_version": "1.5.0",
            "_model_name": "HTMLModel",
            "_view_count": null,
            "_view_module": "@jupyter-widgets/controls",
            "_view_module_version": "1.5.0",
            "_view_name": "HTMLView",
            "description": "",
            "description_tooltip": null,
            "layout": "IPY_MODEL_990ef655d5754fedb7c96bd4320f5898",
            "placeholder": "​",
            "style": "IPY_MODEL_814d4fd1c320452c9d008e9c20284b3e",
            "value": " 45/45 [00:00&lt;00:00, 86.53 examples/s]"
          }
        },
        "bb5545cddf6240f2b4e3533c3235133d": {
          "model_module": "@jupyter-widgets/controls",
          "model_module_version": "1.5.0",
          "model_name": "DescriptionStyleModel",
          "state": {
            "_model_module": "@jupyter-widgets/controls",
            "_model_module_version": "1.5.0",
            "_model_name": "DescriptionStyleModel",
            "_view_count": null,
            "_view_module": "@jupyter-widgets/base",
            "_view_module_version": "1.2.0",
            "_view_name": "StyleView",
            "description_width": ""
          }
        },
        "bc54e1e987304d4493252d7a3497107e": {
          "model_module": "@jupyter-widgets/base",
          "model_module_version": "1.2.0",
          "model_name": "LayoutModel",
          "state": {
            "_model_module": "@jupyter-widgets/base",
            "_model_module_version": "1.2.0",
            "_model_name": "LayoutModel",
            "_view_count": null,
            "_view_module": "@jupyter-widgets/base",
            "_view_module_version": "1.2.0",
            "_view_name": "LayoutView",
            "align_content": null,
            "align_items": null,
            "align_self": null,
            "border": null,
            "bottom": null,
            "display": null,
            "flex": null,
            "flex_flow": null,
            "grid_area": null,
            "grid_auto_columns": null,
            "grid_auto_flow": null,
            "grid_auto_rows": null,
            "grid_column": null,
            "grid_gap": null,
            "grid_row": null,
            "grid_template_areas": null,
            "grid_template_columns": null,
            "grid_template_rows": null,
            "height": null,
            "justify_content": null,
            "justify_items": null,
            "left": null,
            "margin": null,
            "max_height": null,
            "max_width": null,
            "min_height": null,
            "min_width": null,
            "object_fit": null,
            "object_position": null,
            "order": null,
            "overflow": null,
            "overflow_x": null,
            "overflow_y": null,
            "padding": null,
            "right": null,
            "top": null,
            "visibility": null,
            "width": null
          }
        },
        "c22ea276e5d746eab2b22709e71ebdcf": {
          "model_module": "@jupyter-widgets/controls",
          "model_module_version": "1.5.0",
          "model_name": "DescriptionStyleModel",
          "state": {
            "_model_module": "@jupyter-widgets/controls",
            "_model_module_version": "1.5.0",
            "_model_name": "DescriptionStyleModel",
            "_view_count": null,
            "_view_module": "@jupyter-widgets/base",
            "_view_module_version": "1.2.0",
            "_view_name": "StyleView",
            "description_width": ""
          }
        },
        "d49d0bd3523d40acb64ecf2f766753c9": {
          "model_module": "@jupyter-widgets/controls",
          "model_module_version": "1.5.0",
          "model_name": "FloatProgressModel",
          "state": {
            "_dom_classes": [],
            "_model_module": "@jupyter-widgets/controls",
            "_model_module_version": "1.5.0",
            "_model_name": "FloatProgressModel",
            "_view_count": null,
            "_view_module": "@jupyter-widgets/controls",
            "_view_module_version": "1.5.0",
            "_view_name": "ProgressView",
            "bar_style": "success",
            "description": "",
            "description_tooltip": null,
            "layout": "IPY_MODEL_f3858c5738624e609b3fb6b605550ff9",
            "max": 45,
            "min": 0,
            "orientation": "horizontal",
            "style": "IPY_MODEL_3f36c18ddf7a4f909e4397ed2a33122e",
            "value": 45
          }
        },
        "da39da1bcee449e8823411a27cadcb56": {
          "model_module": "@jupyter-widgets/base",
          "model_module_version": "1.2.0",
          "model_name": "LayoutModel",
          "state": {
            "_model_module": "@jupyter-widgets/base",
            "_model_module_version": "1.2.0",
            "_model_name": "LayoutModel",
            "_view_count": null,
            "_view_module": "@jupyter-widgets/base",
            "_view_module_version": "1.2.0",
            "_view_name": "LayoutView",
            "align_content": null,
            "align_items": null,
            "align_self": null,
            "border": null,
            "bottom": null,
            "display": null,
            "flex": null,
            "flex_flow": null,
            "grid_area": null,
            "grid_auto_columns": null,
            "grid_auto_flow": null,
            "grid_auto_rows": null,
            "grid_column": null,
            "grid_gap": null,
            "grid_row": null,
            "grid_template_areas": null,
            "grid_template_columns": null,
            "grid_template_rows": null,
            "height": null,
            "justify_content": null,
            "justify_items": null,
            "left": null,
            "margin": null,
            "max_height": null,
            "max_width": null,
            "min_height": null,
            "min_width": null,
            "object_fit": null,
            "object_position": null,
            "order": null,
            "overflow": null,
            "overflow_x": null,
            "overflow_y": null,
            "padding": null,
            "right": null,
            "top": null,
            "visibility": null,
            "width": null
          }
        },
        "ef723f4aa0cd4f9996bb80671a408747": {
          "model_module": "@jupyter-widgets/controls",
          "model_module_version": "1.5.0",
          "model_name": "FloatProgressModel",
          "state": {
            "_dom_classes": [],
            "_model_module": "@jupyter-widgets/controls",
            "_model_module_version": "1.5.0",
            "_model_name": "FloatProgressModel",
            "_view_count": null,
            "_view_module": "@jupyter-widgets/controls",
            "_view_module_version": "1.5.0",
            "_view_name": "ProgressView",
            "bar_style": "success",
            "description": "",
            "description_tooltip": null,
            "layout": "IPY_MODEL_9911933efcb74502bbb1b8e85c1a45c2",
            "max": 210,
            "min": 0,
            "orientation": "horizontal",
            "style": "IPY_MODEL_916b7ab0dba7404ba6fc7e289211579f",
            "value": 210
          }
        },
        "f3858c5738624e609b3fb6b605550ff9": {
          "model_module": "@jupyter-widgets/base",
          "model_module_version": "1.2.0",
          "model_name": "LayoutModel",
          "state": {
            "_model_module": "@jupyter-widgets/base",
            "_model_module_version": "1.2.0",
            "_model_name": "LayoutModel",
            "_view_count": null,
            "_view_module": "@jupyter-widgets/base",
            "_view_module_version": "1.2.0",
            "_view_name": "LayoutView",
            "align_content": null,
            "align_items": null,
            "align_self": null,
            "border": null,
            "bottom": null,
            "display": null,
            "flex": null,
            "flex_flow": null,
            "grid_area": null,
            "grid_auto_columns": null,
            "grid_auto_flow": null,
            "grid_auto_rows": null,
            "grid_column": null,
            "grid_gap": null,
            "grid_row": null,
            "grid_template_areas": null,
            "grid_template_columns": null,
            "grid_template_rows": null,
            "height": null,
            "justify_content": null,
            "justify_items": null,
            "left": null,
            "margin": null,
            "max_height": null,
            "max_width": null,
            "min_height": null,
            "min_width": null,
            "object_fit": null,
            "object_position": null,
            "order": null,
            "overflow": null,
            "overflow_x": null,
            "overflow_y": null,
            "padding": null,
            "right": null,
            "top": null,
            "visibility": null,
            "width": null
          }
        },
        "fe2148759113426cb6dfa6af637b620c": {
          "model_module": "@jupyter-widgets/controls",
          "model_module_version": "1.5.0",
          "model_name": "ProgressStyleModel",
          "state": {
            "_model_module": "@jupyter-widgets/controls",
            "_model_module_version": "1.5.0",
            "_model_name": "ProgressStyleModel",
            "_view_count": null,
            "_view_module": "@jupyter-widgets/base",
            "_view_module_version": "1.2.0",
            "_view_name": "StyleView",
            "bar_color": null,
            "description_width": ""
          }
        }
      }
    }
  },
  "nbformat": 4,
  "nbformat_minor": 0
}
